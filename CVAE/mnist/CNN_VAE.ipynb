{
  "nbformat": 4,
  "nbformat_minor": 0,
  "metadata": {
    "colab": {
      "name": "CNN-VAE.ipynb",
      "provenance": [],
      "collapsed_sections": [],
      "toc_visible": true
    },
    "kernelspec": {
      "name": "python3",
      "display_name": "Python 3"
    },
    "accelerator": "GPU"
  },
  "cells": [
    {
      "cell_type": "markdown",
      "metadata": {
        "id": "vCjJXffkhggv",
        "colab_type": "text"
      },
      "source": [
        "# Convolution Variational Autoencoder"
      ]
    },
    {
      "cell_type": "markdown",
      "metadata": {
        "id": "PjeyHh7Phona",
        "colab_type": "text"
      },
      "source": [
        "Autoencoder helps you to input some image and map it some latent vector for decoder to a new image.\n",
        "Variational Autoencoder on the other hand help you to map the encoder output to some mean and sigma from which we map our latent dimmension as a result we get some stochasticity in z.So latent dimension is not totaly dependent on im=nput image for which we can tweak the network easly to make new changes and create new image."
      ]
    },
    {
      "cell_type": "markdown",
      "metadata": {
        "id": "KWHKUSdPnw3C",
        "colab_type": "text"
      },
      "source": [
        "# Import of libraries"
      ]
    },
    {
      "cell_type": "code",
      "metadata": {
        "id": "RRFYzv9zhXL6",
        "colab_type": "code",
        "colab": {}
      },
      "source": [
        "!pip install -q imageio"
      ],
      "execution_count": 0,
      "outputs": []
    },
    {
      "cell_type": "code",
      "metadata": {
        "id": "H9rQhW7Whqv3",
        "colab_type": "code",
        "colab": {}
      },
      "source": [
        "import tensorflow as tf\n",
        "\n",
        "import os\n",
        "import time\n",
        "import numpy as np\n",
        "import glob\n",
        "import matplotlib.pyplot as plt\n",
        "import PIL\n",
        "import imageio\n",
        "\n",
        "from IPython import display\n"
      ],
      "execution_count": 0,
      "outputs": []
    },
    {
      "cell_type": "markdown",
      "metadata": {
        "id": "GT89Svz8oAJ_",
        "colab_type": "text"
      },
      "source": [
        "# Load the mnist Dataset"
      ]
    },
    {
      "cell_type": "code",
      "metadata": {
        "id": "Idw-AbnOnvib",
        "colab_type": "code",
        "colab": {}
      },
      "source": [
        "(train_images, _), (test_images, _) = tf.keras.datasets.mnist.load_data()\n"
      ],
      "execution_count": 0,
      "outputs": []
    },
    {
      "cell_type": "code",
      "metadata": {
        "id": "qkOmAEK3n7NL",
        "colab_type": "code",
        "colab": {}
      },
      "source": [
        "train_images = train_images.reshape(train_images.shape[0], 28, 28, 1).astype('float32')\n",
        "test_images = test_images.reshape(test_images.shape[0], 28, 28, 1).astype('float32')\n",
        "train_images=train_images/255.0\n",
        "test_images=test_images/255.0\n",
        "\n",
        "\"\"\"binarisation\n",
        "train_images[train_images >= .5] = 1.\n",
        "train_images[train_images < .5] = 0.\n",
        "test_images[test_images >= .5] = 1.\n",
        "test_images[test_images < .5] = 0.\"\"\"\n"
      ],
      "execution_count": 0,
      "outputs": []
    },
    {
      "cell_type": "code",
      "metadata": {
        "id": "MTk-EjJ5qqHg",
        "colab_type": "code",
        "colab": {}
      },
      "source": [
        "for i in range(4):\n",
        "  plt.subplot(2,2,i+1)\n",
        "  plt.imshow(train_images[i,:,:,0],cmap=\"gray\")"
      ],
      "execution_count": 0,
      "outputs": []
    },
    {
      "cell_type": "code",
      "metadata": {
        "id": "8VEbiUT4oHML",
        "colab_type": "code",
        "colab": {}
      },
      "source": [
        "TRAIN_BUF = 60000\n",
        "BATCH_SIZE = 1000\n",
        "\n",
        "TEST_BUF = 10000\n"
      ],
      "execution_count": 0,
      "outputs": []
    },
    {
      "cell_type": "code",
      "metadata": {
        "id": "qcTCzknAoRE7",
        "colab_type": "code",
        "colab": {}
      },
      "source": [
        "train_dataset = tf.data.Dataset.from_tensor_slices(train_images).shuffle(TRAIN_BUF).batch(BATCH_SIZE).prefetch(1)\n",
        "test_dataset = tf.data.Dataset.from_tensor_slices(test_images).shuffle(TEST_BUF).batch(BATCH_SIZE).prefetch(1)\n"
      ],
      "execution_count": 0,
      "outputs": []
    },
    {
      "cell_type": "markdown",
      "metadata": {
        "id": "QEYDWNmOiCV1",
        "colab_type": "text"
      },
      "source": [
        "# Model"
      ]
    },
    {
      "cell_type": "markdown",
      "metadata": {
        "id": "bo43Jmm0rx21",
        "colab_type": "text"
      },
      "source": [
        "It contains a encoder which maps image ->mean,logvariance<br>\n",
        "A reparametarize that ads noise mean+(logvar->sigmoid)*noise<br>\n",
        "A generator for generation of latent vector to new image"
      ]
    },
    {
      "cell_type": "code",
      "metadata": {
        "id": "AExKvc-dlZBb",
        "colab_type": "code",
        "colab": {}
      },
      "source": [
        "class VAE(tf.keras.Model):\n",
        "  def __init__(self,latent_dim):\n",
        "    super(VAE,self).__init__()\n",
        "    initial=tf.random_normal_initializer(0.0,0.02)\n",
        "    self.latent_dim=latent_dim\n",
        "    self.autoencoder_net=tf.keras.Sequential(\n",
        "        [tf.keras.layers.InputLayer(input_shape=(28,28,1)),\n",
        "         tf.keras.layers.Conv2D(32,3,(1,1),\"same\",activation=\"relu\"),\n",
        "         tf.keras.layers.Conv2D(64,3,(2,2),\"same\",activation=\"relu\"),\n",
        "         tf.keras.layers.Conv2D(64,3,(1,1),\"same\",activation=\"relu\"),\n",
        "         tf.keras.layers.Conv2D(64,3,(2,2),\"same\",use_bias=True,activation=\"relu\"),\n",
        "         tf.keras.layers.Flatten(),\n",
        "         tf.keras.layers.Dense(128,activation=\"relu\")\n",
        "        ]\n",
        "    )\n",
        "    self.means=tf.keras.layers.Dense(units=self.latent_dim)\n",
        "    self.logvars=tf.keras.layers.Dense(units=self.latent_dim)\n",
        "    self.generative_net=tf.keras.Sequential(\n",
        "        [tf.keras.layers.InputLayer(input_shape=(latent_dim,)),\n",
        "         tf.keras.layers.Dense(units=7*7*128,activation=\"relu\"),\n",
        "         tf.keras.layers.Reshape((7,7,128)),\n",
        "         tf.keras.layers.Conv2DTranspose(64,3,(2,2),\"same\",activation=\"relu\",use_bias=False),\n",
        "         tf.keras.layers.Conv2DTranspose(32,3,(2,2),\"same\",activation=\"relu\",use_bias=False),\n",
        "         tf.keras.layers.Conv2DTranspose(1,3,(1,1),\"same\",activation=\"tanh\",use_bias=False)]\n",
        "    )\n",
        "  def encode(self,x):\n",
        "    z=self.autoencoder_net(x)\n",
        "    mean=self.means(z)\n",
        "    logvariance=self.logvars(z)\n",
        "    return mean,logvariance\n",
        "  \n",
        "  def reparametarize(self,mean,logvar):\n",
        "    eps = tf.random.normal(shape=mean.shape)\n",
        "    return eps * tf.exp(logvar * 0.5) + mean#epsilon*sigma+mean\n",
        "  \n",
        "  def decode(self,z,apply_sigmoid=False):\n",
        "    y=self.generative_net(z)\n",
        "    if apply_sigmoid:\n",
        "      y=tf.sigmoid(y)#only during testing for cliping values from [-1,1] to [0,1]\n",
        "    return y\n",
        "  \n",
        "  def sample_noise(self,example):\n",
        "    return self.decode(noise,apply_sigmoid=False)\n",
        "  \n",
        "  def sample_image(self,image_ex):\n",
        "    u,lnv=self.encode(image_ex)\n",
        "    noise_z=self.reparametarize(u,lnv)\n",
        "    return self.decode(noise_z,apply_sigmoid=False)\n",
        "    \n",
        "\n"
      ],
      "execution_count": 0,
      "outputs": []
    },
    {
      "cell_type": "markdown",
      "metadata": {
        "id": "ghVZTSaJroj6",
        "colab_type": "text"
      },
      "source": [
        "#Now the loss function"
      ]
    },
    {
      "cell_type": "markdown",
      "metadata": {
        "id": "hKR0quI5s20f",
        "colab_type": "text"
      },
      "source": [
        "The loss function\n",
        "\n",
        "<img src=\"/content/vae.JPG\">"
      ]
    },
    {
      "cell_type": "code",
      "metadata": {
        "id": "j2u0tcaH_CFw",
        "colab_type": "code",
        "colab": {}
      },
      "source": [
        "optimizer=tf.keras.optimizers.Adam(1e-4)"
      ],
      "execution_count": 0,
      "outputs": []
    },
    {
      "cell_type": "code",
      "metadata": {
        "id": "a7hzeNqLuE3X",
        "colab_type": "code",
        "colab": {}
      },
      "source": [
        ""
      ],
      "execution_count": 0,
      "outputs": []
    },
    {
      "cell_type": "code",
      "metadata": {
        "id": "RnGWAix8rfKn",
        "colab_type": "code",
        "colab": {}
      },
      "source": [
        "@tf.function\n",
        "def vae_loss(model,x):\n",
        "  mean,logvar=model.encode(x)\n",
        "  z=model.reparametarize(mean,logvar)\n",
        "  y=model.decode(z)\n",
        "  logpx_z =tf.reduce_sum(tf.keras.losses.MSE(x,y),axis=(1,2))\n",
        "  kldivergence=-0.5*(tf.reduce_sum((1+logvar-tf.square(mean)-tf.exp(logvar)),axis=1))\n",
        "  total_loss=tf.reduce_mean(logpx_z+kldivergence)\n",
        "  return logpx_z,total_loss\n",
        "\n"
      ],
      "execution_count": 0,
      "outputs": []
    },
    {
      "cell_type": "code",
      "metadata": {
        "id": "wp4dPAd8ba4Z",
        "colab_type": "code",
        "colab": {}
      },
      "source": [
        "@tf.function\n",
        "def vae_loss1(model,x):\n",
        "  mean,logvar=model.encode(x)\n",
        "  z=model.reparametarize(mean,logvar)\n",
        "  y=model.decode(z)\n",
        "  marginal_likelihood = tf.reduce_sum(x * tf.math.log(y) + (1 - x) * tf.math.log(1 - y), [1, 2])\n",
        "  KL_divergence = 0.5 * tf.reduce_sum(tf.square(mean) + tf.exp(logvar) - logvar - 1, [1])\n",
        "  neg_loglikelihood = -tf.reduce_mean(marginal_likelihood)\n",
        "  KL_divergence = tf.reduce_mean(KL_divergence)\n",
        "  total_loss=-neg_loglikelihood-KL_divergence\n",
        "  total_loss=-total_loss\n",
        "  return total_loss\n",
        "\n"
      ],
      "execution_count": 0,
      "outputs": []
    },
    {
      "cell_type": "code",
      "metadata": {
        "id": "L0Z1z9QW5jkF",
        "colab_type": "code",
        "colab": {}
      },
      "source": [
        "@tf.function\n",
        "def train_step(model,x):\n",
        "  with tf.GradientTape() as tape:\n",
        "    loss=vae_loss1(model,x)\n",
        "  gradients=tape.gradient(loss,model.trainable_variables)\n",
        "  optimizer.apply_gradients(zip(gradients,model.trainable_variables))\n",
        "  return loss\n"
      ],
      "execution_count": 0,
      "outputs": []
    },
    {
      "cell_type": "code",
      "metadata": {
        "id": "3FQLBuOE3Loh",
        "colab_type": "code",
        "colab": {}
      },
      "source": [
        ""
      ],
      "execution_count": 0,
      "outputs": []
    },
    {
      "cell_type": "markdown",
      "metadata": {
        "id": "1rcqqGHx6c9p",
        "colab_type": "text"
      },
      "source": [
        "# Generate Images"
      ]
    },
    {
      "cell_type": "code",
      "metadata": {
        "id": "bc0dAYLB6V2J",
        "colab_type": "code",
        "colab": {}
      },
      "source": [
        "def generate_noise_save_images(model,epoch,num_of_examples):\n",
        "  predictions=model.sample_noise(num_of_examples)\n",
        "  fig = plt.figure(figsize=(4,4))\n",
        "\n",
        "  for i in range(predictions.shape[0]):\n",
        "      plt.subplot(4, 4, i+1)\n",
        "      plt.imshow(predictions[i, :, :, 0], cmap='gray')\n",
        "      plt.axis('off')\n",
        "\n",
        "  # tight_layout minimizes the overlap between 2 sub-plots\n",
        "  plt.savefig('image_at_epoch_{:04d}.png'.format(epoch))\n",
        "  plt.show()\n",
        "  #print(predictions[0])\n"
      ],
      "execution_count": 0,
      "outputs": []
    },
    {
      "cell_type": "markdown",
      "metadata": {
        "id": "jHEMIiC77geE",
        "colab_type": "text"
      },
      "source": [
        "# Training"
      ]
    },
    {
      "cell_type": "code",
      "metadata": {
        "id": "po37REn_7eal",
        "colab_type": "code",
        "colab": {}
      },
      "source": [
        "EPOCHS=100\n",
        "latent_dim = 100\n",
        "num_examples_to_generate = 16\n"
      ],
      "execution_count": 0,
      "outputs": []
    },
    {
      "cell_type": "code",
      "metadata": {
        "id": "23MahCNl8TTs",
        "colab_type": "code",
        "colab": {}
      },
      "source": [
        "noise=tf.random.normal(shape=(16,latent_dim))"
      ],
      "execution_count": 0,
      "outputs": []
    },
    {
      "cell_type": "code",
      "metadata": {
        "id": "wXoLOQEi86_4",
        "colab_type": "code",
        "colab": {}
      },
      "source": [
        "model=VAE(latent_dim)"
      ],
      "execution_count": 0,
      "outputs": []
    },
    {
      "cell_type": "code",
      "metadata": {
        "id": "wKvdDByD7qUN",
        "colab_type": "code",
        "colab": {}
      },
      "source": [
        "generate_noise_save_images(model, 0, noise)\n",
        "\n",
        "for epoch in range(1, EPOCHS + 1):\n",
        "  start_time = time.time()\n",
        "  mean_loss=[]\n",
        "  for train_x in train_dataset:\n",
        "    loss=train_step(model, train_x)\n",
        "    mean_loss.append(loss)\n",
        "    #print(bh,bhh,bruh)\n",
        "  end_time = time.time()\n",
        "  print('Epoch: {}, LOSS: {}, '\n",
        "          'time elapse for current epoch {}'.format(epoch,\n",
        "                                                    np.mean(np.asarray(mean_loss)),\n",
        "                                                    end_time - start_time))\n",
        "  generate_noise_save_images(\n",
        "        model, epoch,noise)\n"
      ],
      "execution_count": 0,
      "outputs": []
    },
    {
      "cell_type": "code",
      "metadata": {
        "id": "9aBTkEBX8tjI",
        "colab_type": "code",
        "colab": {}
      },
      "source": [
        "!rm *.png"
      ],
      "execution_count": 0,
      "outputs": []
    },
    {
      "cell_type": "code",
      "metadata": {
        "id": "BoP3OBGOAgqL",
        "colab_type": "code",
        "colab": {}
      },
      "source": [
        "plt.plot(mean_loss)#latent dim 50"
      ],
      "execution_count": 0,
      "outputs": []
    },
    {
      "cell_type": "code",
      "metadata": {
        "id": "aHd1LF1dy833",
        "colab_type": "code",
        "colab": {}
      },
      "source": [
        "plt.plot(mean_loss)#latent dim 2"
      ],
      "execution_count": 0,
      "outputs": []
    },
    {
      "cell_type": "code",
      "metadata": {
        "id": "UmqM_d8KAw-p",
        "colab_type": "code",
        "colab": {}
      },
      "source": [
        "anim_file = 'cvae3.gif'\n",
        "\n",
        "with imageio.get_writer(anim_file,fps=5, mode='I') as writer:\n",
        "  filenames = glob.glob('image*.png')\n",
        "  filenames = sorted(filenames)\n",
        "  last = -1\n",
        "  for i,filename in enumerate(filenames):\n",
        "    frame = 2*(i**0.5)\n",
        "    if round(frame) > round(last):\n",
        "      last = frame\n",
        "    else:\n",
        "      continue\n",
        "    image = imageio.imread(filename)\n",
        "    writer.append_data(image)\n",
        "  image = imageio.imread(filename)\n",
        "  writer.append_data(image)\n",
        "\n",
        "import IPython\n",
        "if IPython.version_info >= (6,2,0,''):\n",
        "  display.Image(filename=anim_file)\n"
      ],
      "execution_count": 0,
      "outputs": []
    },
    {
      "cell_type": "code",
      "metadata": {
        "id": "jTiluXTJBlFA",
        "colab_type": "code",
        "colab": {}
      },
      "source": [
        ""
      ],
      "execution_count": 0,
      "outputs": []
    }
  ]
}