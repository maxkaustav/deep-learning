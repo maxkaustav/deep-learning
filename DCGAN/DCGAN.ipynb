{
 "cells": [
  {
   "cell_type": "code",
   "execution_count": 2,
   "metadata": {},
   "outputs": [],
   "source": [
    "from __future__ import absolute_import, division, print_function, unicode_literals\n"
   ]
  },
  {
   "cell_type": "code",
   "execution_count": 3,
   "metadata": {},
   "outputs": [],
   "source": [
    "import tensorflow as tf\n"
   ]
  },
  {
   "cell_type": "code",
   "execution_count": 4,
   "metadata": {},
   "outputs": [],
   "source": [
    "import glob\n",
    "import imageio\n",
    "import matplotlib.pyplot as plt\n",
    "import numpy as np\n",
    "import os\n",
    "import PIL\n",
    "import time\n",
    "import math\n",
    "from IPython import display\n"
   ]
  },
  {
   "cell_type": "code",
   "execution_count": 5,
   "metadata": {},
   "outputs": [],
   "source": [
    "(train_images, train_labels), (_, _) = tf.keras.datasets.mnist.load_data()\n"
   ]
  },
  {
   "cell_type": "code",
   "execution_count": 6,
   "metadata": {},
   "outputs": [
    {
     "data": {
      "text/plain": [
       "60000"
      ]
     },
     "execution_count": 6,
     "metadata": {},
     "output_type": "execute_result"
    }
   ],
   "source": [
    "train_images.shape[0]"
   ]
  },
  {
   "cell_type": "code",
   "execution_count": 7,
   "metadata": {},
   "outputs": [],
   "source": [
    "train_images = train_images.reshape(train_images.shape[0], 28, 28, 1).astype('float32')\n",
    "train_images = (train_images - 127.5) / 127.5 # Normalize the images to [-1, 1]\n"
   ]
  },
  {
   "cell_type": "code",
   "execution_count": 8,
   "metadata": {},
   "outputs": [],
   "source": [
    "BUFFER_SIZE = 60000\n",
    "BATCH_SIZE = 256\n"
   ]
  },
  {
   "cell_type": "code",
   "execution_count": 9,
   "metadata": {},
   "outputs": [],
   "source": [
    "# Batch and shuffle the data\n",
    "train_dataset = tf.data.Dataset.from_tensor_slices(train_images).cache().shuffle(BUFFER_SIZE).batch(BATCH_SIZE).prefetch(1)\n"
   ]
  },
  {
   "cell_type": "code",
   "execution_count": 10,
   "metadata": {},
   "outputs": [
    {
     "data": {
      "text/plain": [
       "<PrefetchDataset shapes: (None, 28, 28, 1), types: tf.float32>"
      ]
     },
     "execution_count": 10,
     "metadata": {},
     "output_type": "execute_result"
    }
   ],
   "source": [
    "train_dataset"
   ]
  },
  {
   "cell_type": "code",
   "execution_count": 25,
   "metadata": {},
   "outputs": [],
   "source": [
    "class Generator(tf.keras.Model):\n",
    "    def __init__(self,input_shape1):\n",
    "        super(Generator,self).__init__()\n",
    "        self.input_=input_shape1\n",
    "        self.l1=tf.keras.layers.Dense(7*7*256, use_bias=False, input_shape=self.input_)\n",
    "        self.l2=tf.keras.layers.BatchNormalization()\n",
    "        self.l3=tf.keras.layers.LeakyReLU()\n",
    "        self.l4=tf.keras.layers.Reshape((7,7,256))\n",
    "        self.l5=tf.keras.layers.Conv2DTranspose(128,(5,5), strides=(1,1),padding=\"same\", use_bias=False)\n",
    "        self.l6=tf.keras.layers.BatchNormalization()\n",
    "        self.l7=tf.keras.layers.LeakyReLU()\n",
    "        self.l8=tf.keras.layers.Conv2DTranspose(64,(5,5), strides=(2,2),padding=\"same\", use_bias=False)\n",
    "        self.l9=tf.keras.layers.BatchNormalization()\n",
    "        self.l10=tf.keras.layers.LeakyReLU()\n",
    "        self.l11=tf.keras.layers.Conv2DTranspose(1,(5,5), strides=(2,2),padding=\"same\", use_bias=False,activation=\"tanh\")\n",
    "            \n",
    "    def call(self,x,training=None):\n",
    "        \n",
    "        x=self.l1(x)\n",
    "        x=self.l2(x,training=training)\n",
    "        x=self.l3(x)\n",
    "        x=self.l4(x)\n",
    "        #assert x.shape == (None,7,7,256)\n",
    "        x=self.l5(x)\n",
    "        #assert x.shape == (None,7,7,128)\n",
    "        x=self.l6(x,training=training)\n",
    "        x=self.l7(x)\n",
    "        x=self.l8(x)\n",
    "        #assert x.shape == (None,14,14,64)\n",
    "        x=self.l9(x,training=training)\n",
    "        x=self.l10(x)\n",
    "        output=self.l11(x)\n",
    "        #assert output.shape == (None,28,28,1)\n",
    "        \n",
    "        return output"
   ]
  },
  {
   "cell_type": "code",
   "execution_count": 26,
   "metadata": {},
   "outputs": [],
   "source": [
    "generator=Generator((100,))"
   ]
  },
  {
   "cell_type": "code",
   "execution_count": 27,
   "metadata": {},
   "outputs": [
    {
     "data": {
      "text/plain": [
       "<matplotlib.image.AxesImage at 0x7f09388bafd0>"
      ]
     },
     "execution_count": 27,
     "metadata": {},
     "output_type": "execute_result"
    },
    {
     "data": {
      "image/png": "[encoded data removed]",
      "text/plain": [
       "<Figure size 432x288 with 1 Axes>"
      ]
     },
     "metadata": {
      "needs_background": "light"
     },
     "output_type": "display_data"
    }
   ],
   "source": [
    "\n",
    "\n",
    "noise = tf.random.normal([1, 100])\n",
    "generated_image = generator(noise,training=False)\n",
    "generated_image.shape\n",
    "plt.imshow(generated_image[0, :, :, 0], cmap='gray')\n"
   ]
  },
  {
   "cell_type": "code",
   "execution_count": 28,
   "metadata": {},
   "outputs": [
    {
     "data": {
      "text/plain": [
       "TensorShape([1, 28, 28, 1])"
      ]
     },
     "execution_count": 28,
     "metadata": {},
     "output_type": "execute_result"
    }
   ],
   "source": [
    "generated_image.shape"
   ]
  },
  {
   "cell_type": "code",
   "execution_count": 43,
   "metadata": {},
   "outputs": [],
   "source": [
    "class Discriminator(tf.keras.Model):\n",
    "    def __init__(self):\n",
    "        super(Discriminator,self).__init__()\n",
    "        self.l1=tf.keras.layers.Conv2D(64,(5,5), strides=(2,2), padding=\"same\", input_shape=[28,28,1])\n",
    "        self.l2=tf.keras.layers.LeakyReLU()\n",
    "        self.l3=tf.keras.layers.Dropout(0.3)\n",
    "        self.l4=tf.keras.layers.Conv2D(128,(5,5), strides=(2,2), padding=\"same\")\n",
    "        self.l5=tf.keras.layers.LeakyReLU()\n",
    "        self.l6=tf.keras.layers.Dropout(0.3)\n",
    "        self.l7=tf.keras.layers.Flatten()\n",
    "        self.l8=tf.keras.layers.Dense(1)\n",
    "        \n",
    "    def call(self,x,training):\n",
    "        \n",
    "        x=self.l1(x)\n",
    "        x=self.l2(x)\n",
    "        x=self.l3(x,training=training)\n",
    "        x=self.l4(x)\n",
    "        x=self.l5(x)\n",
    "        x=self.l6(x,training=training)\n",
    "        x=self.l7(x)\n",
    "        out_dis=self.l8(x)\n",
    "        \n",
    "        return out_dis"
   ]
  },
  {
   "cell_type": "code",
   "execution_count": 44,
   "metadata": {},
   "outputs": [
    {
     "name": "stdout",
     "output_type": "stream",
     "text": [
      "tf.Tensor([[-0.00222292]], shape=(1, 1), dtype=float32)\n"
     ]
    }
   ],
   "source": [
    "discriminator = Discriminator()\n",
    "decision = discriminator(generated_image,False)\n",
    "print (decision)\n"
   ]
  },
  {
   "cell_type": "markdown",
   "metadata": {},
   "source": [
    "# Define loss function\n",
    "The loss here will be binary (fake or real)"
   ]
  },
  {
   "cell_type": "code",
   "execution_count": 45,
   "metadata": {},
   "outputs": [],
   "source": [
    "loss_object=tf.keras.losses.BinaryCrossentropy(from_logits=True)"
   ]
  },
  {
   "cell_type": "code",
   "execution_count": 46,
   "metadata": {},
   "outputs": [],
   "source": [
    "def dicriminator_loss(real_output,fake_output):\n",
    "    real_loss=loss_object(tf.ones_like(real_output), real_output)\n",
    "    fake_loss=loss_object(tf.zeros_like(fake_output), fake_output)\n",
    "    total_loss=real_loss+ fake_loss\n",
    "    return total_loss"
   ]
  },
  {
   "cell_type": "code",
   "execution_count": 47,
   "metadata": {},
   "outputs": [],
   "source": [
    "def generator_loss(fake_output):\n",
    "    return loss_object(tf.ones_like(fake_output),fake_output)"
   ]
  },
  {
   "cell_type": "code",
   "execution_count": 48,
   "metadata": {},
   "outputs": [],
   "source": [
    "generator_optimizer = tf.keras.optimizers.Adam(1e-4)\n",
    "discriminator_optimizer = tf.keras.optimizers.Adam(1e-4)"
   ]
  },
  {
   "cell_type": "code",
   "execution_count": 49,
   "metadata": {},
   "outputs": [],
   "source": [
    "checkpoint_dir = './training_checkpoints'\n",
    "checkpoint_prefix = os.path.join(checkpoint_dir, \"ckpt\")\n",
    "checkpoint = tf.train.Checkpoint(generator_optimizer=generator_optimizer,\n",
    "                                 discriminator_optimizer=discriminator_optimizer,\n",
    "                                 generator=generator,\n",
    "                                 discriminator=discriminator)\n"
   ]
  },
  {
   "cell_type": "code",
   "execution_count": 50,
   "metadata": {},
   "outputs": [],
   "source": [
    "EPOCHS = 50\n",
    "noise_dim = 100\n",
    "num_examples_to_generate = 16\n",
    "\n",
    "# We will reuse this seed overtime (so it's easier)\n",
    "# to visualize progress in the animated GIF)\n",
    "seed = tf.random.normal([num_examples_to_generate, noise_dim])\n"
   ]
  },
  {
   "cell_type": "markdown",
   "metadata": {},
   "source": [
    "# How This Work?\n",
    "\n",
    "So generator takes up random values (noise_dim) to create image.<br>\n",
    "we pass those values in the network and the image is passed in to the discriminator<br>\n",
    "Discriminator take the real image and computes the loss.The loss is calulated some way like that yture=1 ypred=?<br>\n",
    "Discriminator take the real image and computes the loss.The loss is calulated some way like that yture=0 ypred=?<br>\n",
    "Generator loss is calculated<br>\n",
    "Network is optimized<br>\n",
    "\n",
    "So the loss is like<br>\n",
    "realo-0(fails to detect)<br>\n",
    "fakeo-1(as discriminator is not well trained)<br>\n",
    "loss::dis1(1,0);loss high so dis_model updates:dis2(0,1);loss high dis_model update as it failed to detect fake:gen(1,1),loss low generator relax<br>\n",
    "Discriminator learns a lot<br>\n",
    "loss::dis1(1,1);loss low so dis_model relax it knows the original image:dis2(0,0);loss low dis_model relax as it pass to detect fake:gen(1,0),loss high generator update for better image<br>\n",
    "Generator now will win over Discriminator<br>\n",
    "loss::dis1(1,0);loss high so dis_model updates:dis2(0,1);loss high dis_model update as it failed to detect fake:gen(1,1),loss low generator relax<br>\n",
    "Discriminator learns a lot<br>\n",
    "and so on"
   ]
  },
  {
   "cell_type": "code",
   "execution_count": 51,
   "metadata": {},
   "outputs": [],
   "source": [
    "@tf.function\n",
    "def train_step(images):\n",
    "    noise=tf.random.normal([BATCH_SIZE, noise_dim])\n",
    "    with tf.GradientTape() as gen_tape, tf.GradientTape() as disc_tape:\n",
    "        generated_images = generator(noise,True)\n",
    "        image_output=discriminator(images,True)\n",
    "        gen_dis_output=discriminator(generated_images,True)\n",
    "        \n",
    "        dis_loss=dicriminator_loss(image_output, gen_dis_output)\n",
    "        gen_loss=generator_loss(gen_dis_output)\n",
    "        \n",
    "    gradients_gen=gen_tape.gradient(gen_loss, generator.trainable_variables)\n",
    "    gradients_dis=disc_tape.gradient(dis_loss, discriminator.trainable_variables)\n",
    "    \n",
    "    generator_optimizer.apply_gradients(zip(gradients_gen,generator.trainable_variables))\n",
    "    discriminator_optimizer.apply_gradients(zip(gradients_dis,discriminator.trainable_variables))\n",
    "    \n",
    "    return gen_loss, dis_loss"
   ]
  },
  {
   "cell_type": "code",
   "execution_count": 52,
   "metadata": {},
   "outputs": [],
   "source": [
    "el=\"#\""
   ]
  },
  {
   "cell_type": "code",
   "execution_count": 53,
   "metadata": {},
   "outputs": [],
   "source": [
    "def train(dataset, epochs):\n",
    "    for epoch in range(epochs):\n",
    "        start=time.time()\n",
    "        loss_g_ar=0\n",
    "        loss_d_ar=0\n",
    "        loss_g=0\n",
    "        loss_d=0\n",
    "        i=0\n",
    "        print(\"EPOCH::{}\".format(epoch+1))\n",
    "        for image in dataset:\n",
    "            i+=1\n",
    "            loss_g,loss_d=train_step(image)\n",
    "            loss_g_ar+=loss_g\n",
    "            loss_d_ar+=loss_d\n",
    "            percentage=(i/234)*10\n",
    "            print(\"[{}]  {}%  GenerativeLoss::{} DiscriminatorLoss::{}\".format(el*math.floor(percentage),percentage*10,loss_g_ar,loss_d_ar),end=\"\\r\",flush=True)\n",
    "        display.clear_output(wait=True)\n",
    "        generate_and_save_images(generator,\n",
    "                             epoch + 1,\n",
    "                             seed)\n",
    "        \n",
    "        if (epoch + 1) % 15 == 0:\n",
    "            checkpoint.save(file_prefix = checkpoint_prefix)\n",
    "        \n",
    "        print(\"Time taken:: {}s\".format(time.time()-start))\n",
    "        \n",
    "\n",
    "\n",
    "            "
   ]
  },
  {
   "cell_type": "code",
   "execution_count": 54,
   "metadata": {},
   "outputs": [],
   "source": [
    "def generate_and_save_images(model, epoch, test_input):\n",
    "  # Notice `training` is set to False.\n",
    "  # This is so all layers run in inference mode (batchnorm).\n",
    "  predictions = model(test_input,False)\n",
    "\n",
    "  fig = plt.figure(figsize=(4,4))\n",
    "\n",
    "  for i in range(predictions.shape[0]):\n",
    "      plt.subplot(4, 4, i+1)\n",
    "      plt.imshow(predictions[i, :, :, 0] * 127.5 + 127.5, cmap=\"gray\")\n",
    "      plt.axis('off')\n",
    "\n",
    "  plt.savefig('image_at_epoch_{:04d}.png'.format(epoch))\n",
    "  plt.show()\n"
   ]
  },
  {
   "cell_type": "code",
   "execution_count": 55,
   "metadata": {},
   "outputs": [
    {
     "data": {
      "image/png": "[encoded data removed]",
      "text/plain": [
       "<Figure size 288x288 with 16 Axes>"
      ]
     },
     "metadata": {
      "needs_background": "light"
     },
     "output_type": "display_data"
    },
    {
     "name": "stdout",
     "output_type": "stream",
     "text": [
      "Time taken:: 9.345571994781494s\n"
     ]
    }
   ],
   "source": [
    "train(train_dataset,100)"
   ]
  },
  {
   "cell_type": "code",
   "execution_count": 56,
   "metadata": {},
   "outputs": [
    {
     "data": {
      "text/plain": [
       "<tensorflow.python.training.tracking.util.CheckpointLoadStatus at 0x7f0959e92b00>"
      ]
     },
     "execution_count": 56,
     "metadata": {},
     "output_type": "execute_result"
    }
   ],
   "source": [
    "checkpoint.restore(tf.train.latest_checkpoint(checkpoint_dir))\n"
   ]
  },
  {
   "cell_type": "code",
   "execution_count": 57,
   "metadata": {},
   "outputs": [],
   "source": [
    "# Display a single image using the epoch number\n",
    "def display_image(epoch_no):\n",
    "  return PIL.Image.open('image_at_epoch_{:04d}.png'.format\n",
    "                        (epoch_no))\n"
   ]
  },
  {
   "cell_type": "code",
   "execution_count": 58,
   "metadata": {},
   "outputs": [
    {
     "data": {
      "image/png": "[encoded data removed]",
      "text/plain": [
       "<PIL.PngImagePlugin.PngImageFile image mode=RGBA size=288x288 at 0x7F09D9640320>"
      ]
     },
     "execution_count": 58,
     "metadata": {},
     "output_type": "execute_result"
    }
   ],
   "source": [
    "display_image(EPOCHS)\n"
   ]
  },
  {
   "cell_type": "code",
   "execution_count": 78,
   "metadata": {},
   "outputs": [],
   "source": [
    "prediction=generator(noise,False)"
   ]
  },
  {
   "cell_type": "code",
   "execution_count": 82,
   "metadata": {},
   "outputs": [],
   "source": [
    "predict=tf.reshape(prediction,[1,28,28])"
   ]
  },
  {
   "cell_type": "code",
   "execution_count": 87,
   "metadata": {},
   "outputs": [
    {
     "data": {
      "text/plain": [
       "<matplotlib.image.AxesImage at 0x7f09b8be9550>"
      ]
     },
     "execution_count": 87,
     "metadata": {},
     "output_type": "execute_result"
    },
    {
     "data": {
      "image/png": "[encoded data removed]",
      "text/plain": [
       "<Figure size 432x288 with 1 Axes>"
      ]
     },
     "metadata": {
      "needs_background": "light"
     },
     "output_type": "display_data"
    }
   ],
   "source": [
    "plt.imshow(predict[0] , cmap=\"gray\")"
   ]
  },
  {
   "cell_type": "code",
   "execution_count": 85,
   "metadata": {},
   "outputs": [
    {
     "data": {
      "text/plain": [
       "<tf.Tensor: id=185955, shape=(1, 28, 28), dtype=float32, numpy=\n",
       "array([[[-0.9966446 , -0.9997664 , -0.9999508 , -0.9997979 ,\n",
       "         -0.9996238 , -0.99955964, -0.9999749 , -0.999992  ,\n",
       "         -0.9999987 , -0.9999968 , -0.9999983 , -0.99999684,\n",
       "         -0.9999984 , -0.99999577, -0.9999995 , -0.9999998 ,\n",
       "         -1.        , -1.        , -1.        , -1.        ,\n",
       "         -1.        , -1.        , -1.        , -1.        ,\n",
       "         -1.        , -1.        , -1.        , -1.        ],\n",
       "        [-0.9999221 , -0.9999988 , -0.9999997 , -0.99999785,\n",
       "         -0.99999464, -0.9999966 , -0.99999994, -1.        ,\n",
       "         -1.        , -1.        , -1.        , -1.        ,\n",
       "         -1.        , -1.        , -1.        , -1.        ,\n",
       "         -1.        , -1.        , -1.        , -1.        ,\n",
       "         -1.        , -1.        , -1.        , -1.        ,\n",
       "         -1.        , -1.        , -1.        , -1.        ],\n",
       "        [-0.9999782 , -0.99999994, -1.        , -1.        ,\n",
       "         -1.        , -1.        , -1.        , -1.        ,\n",
       "         -1.        , -1.        , -1.        , -1.        ,\n",
       "         -1.        , -1.        , -1.        , -1.        ,\n",
       "         -1.        , -1.        , -1.        , -1.        ,\n",
       "         -1.        , -1.        , -1.        , -1.        ,\n",
       "         -1.        , -1.        , -1.        , -1.        ],\n",
       "        [-0.99998593, -0.99999994, -1.        , -1.        ,\n",
       "         -1.        , -1.        , -1.        , -1.        ,\n",
       "         -1.        , -1.        , -0.99999994, -0.99999994,\n",
       "         -1.        , -1.        , -1.        , -1.        ,\n",
       "         -1.        , -1.        , -1.        , -1.        ,\n",
       "         -1.        , -1.        , -1.        , -1.        ,\n",
       "         -1.        , -1.        , -1.        , -1.        ],\n",
       "        [-0.9999971 , -1.        , -1.        , -1.        ,\n",
       "         -1.        , -1.        , -1.        , -0.9999997 ,\n",
       "         -0.9999929 , -0.99979556, -0.998797  , -0.9991351 ,\n",
       "         -0.9999328 , -0.9999994 , -1.        , -1.        ,\n",
       "         -1.        , -1.        , -1.        , -1.        ,\n",
       "         -1.        , -1.        , -1.        , -1.        ,\n",
       "         -1.        , -1.        , -1.        , -1.        ],\n",
       "        [-0.99999845, -1.        , -1.        , -1.        ,\n",
       "         -1.        , -1.        , -0.99999976, -0.99991345,\n",
       "         -0.9966188 , -0.92801154, -0.4728817 , -0.24326394,\n",
       "         -0.8285134 , -0.96944577, -0.995187  , -0.999512  ,\n",
       "         -0.99999774, -1.        , -1.        , -1.        ,\n",
       "         -1.        , -1.        , -1.        , -1.        ,\n",
       "         -1.        , -1.        , -1.        , -1.        ],\n",
       "        [-0.9999988 , -1.        , -1.        , -1.        ,\n",
       "         -1.        , -1.        , -0.9999745 , -0.9823701 ,\n",
       "         -0.7703275 ,  0.00532479,  0.86302567,  0.94073737,\n",
       "          0.9712884 ,  0.98122996,  0.9931462 ,  0.9898414 ,\n",
       "          0.91870105, -0.6341138 , -0.99653625, -0.9999946 ,\n",
       "         -1.        , -1.        , -1.        , -1.        ,\n",
       "         -1.        , -1.        , -1.        , -1.        ],\n",
       "        [-0.99999934, -1.        , -1.        , -1.        ,\n",
       "         -1.        , -0.9999983 , -0.99558663, -0.51864266,\n",
       "          0.0145285 ,  0.68329245,  0.94441557,  0.98907536,\n",
       "          0.99661195,  0.99932534,  0.9998092 ,  0.9999455 ,\n",
       "          0.9997521 ,  0.9993365 ,  0.9895494 , -0.00757757,\n",
       "         -0.9990296 , -0.99999857, -1.        , -1.        ,\n",
       "         -1.        , -1.        , -1.        , -1.        ],\n",
       "        [-0.9999998 , -1.        , -1.        , -1.        ,\n",
       "         -1.        , -0.9999978 , -0.9707311 ,  0.22048523,\n",
       "          0.12455185,  0.04598918,  0.53011566,  0.8712704 ,\n",
       "          0.94600356,  0.925564  ,  0.9424748 ,  0.9443323 ,\n",
       "          0.96417207,  0.9893413 ,  0.9981733 ,  0.98769194,\n",
       "          0.6097299 , -0.9575656 , -0.9999543 , -1.        ,\n",
       "         -1.        , -1.        , -1.        , -1.        ],\n",
       "        [-0.9999999 , -1.        , -1.        , -1.        ,\n",
       "         -1.        , -0.999988  , -0.8616827 ,  0.46013743,\n",
       "         -0.77259344, -0.9880126 , -0.99632794, -0.9968924 ,\n",
       "         -0.9977484 , -0.9992899 , -0.9999552 , -0.9999354 ,\n",
       "         -0.9996061 , -0.99395996, -0.6771107 ,  0.6834029 ,\n",
       "          0.82128316, -0.3805115 , -0.9993917 , -1.        ,\n",
       "         -1.        , -1.        , -1.        , -1.        ],\n",
       "        [-0.9999997 , -1.        , -1.        , -1.        ,\n",
       "         -1.        , -0.9998257 , -0.2849044 ,  0.43478242,\n",
       "         -0.9812615 , -0.9999836 , -0.9999999 , -1.        ,\n",
       "         -1.        , -1.        , -1.        , -1.        ,\n",
       "         -1.        , -1.        , -0.9999846 , -0.9339051 ,\n",
       "          0.7510916 ,  0.49517608, -0.9923339 , -0.99999994,\n",
       "         -1.        , -1.        , -1.        , -1.        ],\n",
       "        [-0.9999984 , -1.        , -1.        , -1.        ,\n",
       "         -0.99999994, -0.9919408 ,  0.2206798 , -0.5279509 ,\n",
       "         -0.9990469 , -0.99999976, -1.        , -1.        ,\n",
       "         -1.        , -1.        , -1.        , -1.        ,\n",
       "         -1.        , -1.        , -0.9999993 , -0.9923308 ,\n",
       "          0.7116548 ,  0.9140026 , -0.9792332 , -0.99999994,\n",
       "         -1.        , -1.        , -1.        , -1.        ],\n",
       "        [-0.99999815, -1.        , -1.        , -1.        ,\n",
       "         -0.9999994 , -0.9348116 ,  0.6817757 , -0.8307711 ,\n",
       "         -0.9999524 , -1.        , -1.        , -1.        ,\n",
       "         -1.        , -1.        , -1.        , -1.        ,\n",
       "         -1.        , -1.        , -0.99999255, -0.93501306,\n",
       "          0.86323476,  0.8899831 , -0.991222  , -1.        ,\n",
       "         -1.        , -1.        , -1.        , -1.        ],\n",
       "        [-0.9999963 , -1.        , -1.        , -1.        ,\n",
       "         -0.9999883 , -0.8584807 ,  0.3725253 , -0.9532578 ,\n",
       "         -0.99998164, -0.99999994, -1.        , -1.        ,\n",
       "         -1.        , -1.        , -1.        , -1.        ,\n",
       "         -1.        , -0.9999995 , -0.99730796,  0.06671191,\n",
       "          0.7684493 , -0.4962833 , -0.999819  , -1.        ,\n",
       "         -1.        , -1.        , -1.        , -1.        ],\n",
       "        [-0.99997795, -1.        , -1.        , -1.        ,\n",
       "         -0.999854  , -0.22510591,  0.82566893, -0.6158736 ,\n",
       "         -0.99937135, -0.99997866, -0.9999137 , -0.9983619 ,\n",
       "         -0.9887356 , -0.99883777, -0.99998885, -0.9999974 ,\n",
       "         -0.99998826, -0.99858165, -0.24463962,  0.8999584 ,\n",
       "          0.5142199 , -0.9768491 , -0.9999919 , -1.        ,\n",
       "         -1.        , -1.        , -1.        , -1.        ],\n",
       "        [-0.99980485, -0.9999996 , -1.        , -0.99999976,\n",
       "         -0.9993869 ,  0.68474495,  0.98893446,  0.8305007 ,\n",
       "         -0.75174356, -0.877522  ,  0.06613861,  0.90212834,\n",
       "          0.98222786,  0.97111005,  0.6614125 , -0.13255939,\n",
       "         -0.88849384, -0.36736402,  0.7982539 ,  0.8441578 ,\n",
       "         -0.46047056, -0.99582046, -0.9999971 , -1.        ,\n",
       "         -1.        , -1.        , -1.        , -1.        ],\n",
       "        [-0.9993792 , -0.999996  , -0.99999994, -0.9999988 ,\n",
       "         -0.9987667 ,  0.88579404,  0.99788123,  0.98689526,\n",
       "          0.8873627 ,  0.7313263 ,  0.8865733 ,  0.93187636,\n",
       "          0.9766077 ,  0.9686068 ,  0.93789554,  0.77770233,\n",
       "         -0.04838857,  0.60504234,  0.9531179 ,  0.8511348 ,\n",
       "         -0.85480523, -0.9995344 , -0.9999993 , -1.        ,\n",
       "         -1.        , -1.        , -1.        , -1.        ],\n",
       "        [-0.9992602 , -0.9999934 , -0.99999946, -0.9999921 ,\n",
       "         -0.99525225,  0.7747521 ,  0.9917404 ,  0.9527648 ,\n",
       "          0.04943623, -0.7202534 , -0.88084775, -0.78914595,\n",
       "          0.14240828,  0.21527871,  0.18449832, -0.08824082,\n",
       "         -0.46863854,  0.47756547,  0.94418794,  0.721887  ,\n",
       "         -0.9921914 , -0.9999977 , -1.        , -1.        ,\n",
       "         -1.        , -1.        , -1.        , -1.        ],\n",
       "        [-0.9990007 , -0.99998057, -0.99999803, -0.99996525,\n",
       "         -0.97881854,  0.8332429 ,  0.982846  ,  0.3907311 ,\n",
       "         -0.98375875, -0.99845725, -0.99264646, -0.6623018 ,\n",
       "          0.81282985,  0.89921033,  0.9221193 ,  0.7651958 ,\n",
       "          0.64558136,  0.7481928 ,  0.9440748 ,  0.03921749,\n",
       "         -0.9997135 , -1.        , -1.        , -1.        ,\n",
       "         -1.        , -1.        , -1.        , -1.        ],\n",
       "        [-0.9989968 , -0.99998474, -0.9999977 , -0.9999351 ,\n",
       "         -0.9720931 ,  0.9128828 ,  0.97269344, -0.32360062,\n",
       "         -0.9857651 , -0.9884115 , -0.08830483,  0.97120327,\n",
       "          0.9997219 ,  0.99974006,  0.99859154,  0.9769581 ,\n",
       "          0.78996044,  0.3070686 , -0.19554256, -0.9891093 ,\n",
       "         -0.9999977 , -1.        , -1.        , -1.        ,\n",
       "         -1.        , -1.        , -1.        , -1.        ],\n",
       "        [-0.9998455 , -0.9999991 , -0.99999994, -0.999993  ,\n",
       "         -0.9927926 ,  0.6081589 ,  0.8587913 ,  0.19052766,\n",
       "         -0.19173162,  0.7264045 ,  0.9929489 ,  0.9996067 ,\n",
       "          0.9999632 ,  0.9996411 ,  0.9855509 ,  0.5273229 ,\n",
       "         -0.92796683, -0.99453396, -0.99832535, -0.9998471 ,\n",
       "         -0.99999917, -1.        , -1.        , -1.        ,\n",
       "         -1.        , -1.        , -1.        , -1.        ],\n",
       "        [-0.99998766, -0.99999994, -1.        , -0.9999999 ,\n",
       "         -0.9999725 , -0.9920807 , -0.7762895 , -0.04538023,\n",
       "          0.20098692,  0.8073528 ,  0.9329048 ,  0.9735832 ,\n",
       "          0.85507154, -0.57358325, -0.9676781 , -0.99794436,\n",
       "         -0.99997425, -0.9999968 , -0.9999957 , -0.9999692 ,\n",
       "         -0.9999904 , -0.99999994, -1.        , -1.        ,\n",
       "         -1.        , -1.        , -1.        , -1.        ],\n",
       "        [-0.9999974 , -1.        , -1.        , -1.        ,\n",
       "         -1.        , -0.99999917, -0.9998047 , -0.9898709 ,\n",
       "         -0.9755367 , -0.9763001 , -0.98658025, -0.99780285,\n",
       "         -0.99990106, -0.99999326, -0.9999993 , -0.99999994,\n",
       "         -1.        , -1.        , -1.        , -0.9999998 ,\n",
       "         -0.9999991 , -0.99999964, -1.        , -1.        ,\n",
       "         -1.        , -1.        , -1.        , -1.        ],\n",
       "        [-0.9999994 , -1.        , -1.        , -1.        ,\n",
       "         -1.        , -1.        , -0.9999997 , -0.9999908 ,\n",
       "         -0.9999787 , -0.9999954 , -0.9999998 , -1.        ,\n",
       "         -1.        , -1.        , -1.        , -1.        ,\n",
       "         -1.        , -1.        , -1.        , -1.        ,\n",
       "         -1.        , -0.9999998 , -0.99999994, -1.        ,\n",
       "         -1.        , -1.        , -1.        , -1.        ],\n",
       "        [-0.99999994, -1.        , -1.        , -1.        ,\n",
       "         -1.        , -1.        , -1.        , -1.        ,\n",
       "         -1.        , -1.        , -1.        , -1.        ,\n",
       "         -1.        , -1.        , -1.        , -1.        ,\n",
       "         -1.        , -1.        , -1.        , -1.        ,\n",
       "         -1.        , -1.        , -0.9999999 , -0.99999994,\n",
       "         -1.        , -1.        , -1.        , -1.        ],\n",
       "        [-0.99999994, -1.        , -1.        , -1.        ,\n",
       "         -1.        , -1.        , -1.        , -1.        ,\n",
       "         -1.        , -1.        , -1.        , -1.        ,\n",
       "         -1.        , -1.        , -1.        , -1.        ,\n",
       "         -1.        , -1.        , -1.        , -1.        ,\n",
       "         -1.        , -1.        , -0.99999994, -1.        ,\n",
       "         -1.        , -1.        , -1.        , -0.99999994],\n",
       "        [-0.9999997 , -1.        , -1.        , -1.        ,\n",
       "         -1.        , -1.        , -1.        , -1.        ,\n",
       "         -1.        , -1.        , -1.        , -1.        ,\n",
       "         -1.        , -1.        , -1.        , -1.        ,\n",
       "         -1.        , -1.        , -1.        , -1.        ,\n",
       "         -1.        , -1.        , -1.        , -1.        ,\n",
       "         -1.        , -1.        , -1.        , -0.9999997 ],\n",
       "        [-0.999989  , -0.99999994, -1.        , -1.        ,\n",
       "         -1.        , -1.        , -1.        , -1.        ,\n",
       "         -1.        , -1.        , -1.        , -0.9999988 ,\n",
       "         -0.99998254, -0.99999386, -0.99999994, -1.        ,\n",
       "         -1.        , -1.        , -1.        , -1.        ,\n",
       "         -1.        , -1.        , -1.        , -1.        ,\n",
       "         -1.        , -1.        , -1.        , -0.9999942 ]]],\n",
       "      dtype=float32)>"
      ]
     },
     "execution_count": 85,
     "metadata": {},
     "output_type": "execute_result"
    }
   ],
   "source": [
    "predict"
   ]
  },
  {
   "cell_type": "code",
   "execution_count": 83,
   "metadata": {},
   "outputs": [],
   "source": [
    "anim_file = 'dcgan.gif'\n",
    "\n",
    "with imageio.get_writer(anim_file, mode='I') as writer:\n",
    "  filenames = glob.glob('image*.png')\n",
    "  filenames = sorted(filenames)\n",
    "  last = -1\n",
    "  for i,filename in enumerate(filenames):\n",
    "    frame = 2*(i**0.5)\n",
    "    if round(frame) > round(last):\n",
    "      last = frame\n",
    "    else:\n",
    "      continue\n",
    "    image = imageio.imread(filename)\n",
    "    writer.append_data(image)\n",
    "  image = imageio.imread(filename)\n",
    "  writer.append_data(image)\n",
    "\n",
    "import IPython\n",
    "if IPython.version_info > (6,2,0,''):\n",
    "  display.Image(filename=anim_file)\n"
   ]
  },
  {
   "cell_type": "code",
   "execution_count": null,
   "metadata": {},
   "outputs": [],
   "source": []
  }
 ],
 "metadata": {
  "kernelspec": {
   "display_name": "Python 3",
   "language": "python",
   "name": "python3"
  },
  "language_info": {
   "codemirror_mode": {
    "name": "ipython",
    "version": 3
   },
   "file_extension": ".py",
   "mimetype": "text/x-python",
   "name": "python",
   "nbconvert_exporter": "python",
   "pygments_lexer": "ipython3",
   "version": "3.6.8"
  }
 },
 "nbformat": 4,
 "nbformat_minor": 4
}
